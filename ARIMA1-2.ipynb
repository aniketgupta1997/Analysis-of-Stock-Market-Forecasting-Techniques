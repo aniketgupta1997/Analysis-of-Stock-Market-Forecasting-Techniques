{
  "nbformat": 4,
  "nbformat_minor": 0,
  "metadata": {
    "colab": {
      "name": "ARIMA1.ipynb",
      "provenance": [],
      "collapsed_sections": []
    },
    "kernelspec": {
      "name": "python3",
      "display_name": "Python 3"
    }
  },
  "cells": [
    {
      "cell_type": "markdown",
      "metadata": {
        "id": "iIXfRRu3KxkX"
      },
      "source": [
        "##Auto Regressive Integrated Moving Average Algorithm"
      ]
    },
    {
      "cell_type": "markdown",
      "metadata": {
        "id": "NdIIfqGDK3UB"
      },
      "source": [
        "Reference:\n",
        "1. https://towardsdatascience.com/stock-market-forecasting-using-time-series-c3d21f2dd37f]\n",
        "2. https://www.machinelearningplus.com/time-series/arima-model-time-series-forecasting-python/"
      ]
    },
    {
      "cell_type": "markdown",
      "metadata": {
        "id": "dpHSXbAfZhG6"
      },
      "source": [
        "##Importing Libraries"
      ]
    },
    {
      "cell_type": "code",
      "metadata": {
        "id": "hsqUDpXMHQ2i"
      },
      "source": [
        "import pandas as pd\n",
        "import numpy as np\n",
        "import matplotlib.pyplot as plt\n",
        "import seaborn as sns\n",
        "from pandas.plotting import register_matplotlib_converters\n",
        "register_matplotlib_converters()\n",
        "%matplotlib inline"
      ],
      "execution_count": null,
      "outputs": []
    },
    {
      "cell_type": "code",
      "metadata": {
        "id": "hWvENhsOEjQR"
      },
      "source": [
        "!pip install pmdarima"
      ],
      "execution_count": null,
      "outputs": []
    },
    {
      "cell_type": "markdown",
      "metadata": {
        "id": "Kn6pEasNZlSw"
      },
      "source": [
        "##Reading Data"
      ]
    },
    {
      "cell_type": "code",
      "metadata": {
        "id": "6fkkLliFIWLh"
      },
      "source": [
        "dataset = pd.read_csv(\"/content/10-02-2018-TO-09-01-2019AXISBANKALLN.csv\")"
      ],
      "execution_count": null,
      "outputs": []
    },
    {
      "cell_type": "code",
      "metadata": {
        "id": "MM5XzZduIjCL"
      },
      "source": [
        "dataset.info()\n",
        "dataset = dataset.drop(columns = ['Series'])\n",
        "dataset = dataset.drop(columns = ['Symbol'])\n",
        "dataset.head(2)"
      ],
      "execution_count": null,
      "outputs": []
    },
    {
      "cell_type": "markdown",
      "metadata": {
        "id": "pqwXK6ZUZoes"
      },
      "source": [
        "##Preprocessing Data"
      ]
    },
    {
      "cell_type": "code",
      "metadata": {
        "id": "gQo0vXpGIzyp"
      },
      "source": [
        "dataset['Mean'] = (dataset[\"Low Price\"] + dataset['High Price'])/2\n",
        "steps=-1\n",
        "dataset_for_prediction= dataset.copy()\n",
        "dataset_for_prediction['Actual']=dataset_for_prediction['Mean'].shift(steps)"
      ],
      "execution_count": null,
      "outputs": []
    },
    {
      "cell_type": "code",
      "metadata": {
        "id": "YS5Gz9hzJFEE"
      },
      "source": [
        "dataset_for_prediction=dataset_for_prediction.dropna()"
      ],
      "execution_count": null,
      "outputs": []
    },
    {
      "cell_type": "code",
      "metadata": {
        "id": "L8ceh9A3JHOd"
      },
      "source": [
        "dataset_for_prediction['Date'] = pd.to_datetime(dataset_for_prediction['Date'])\n",
        "dataset_for_prediction.index= dataset_for_prediction['Date']"
      ],
      "execution_count": null,
      "outputs": []
    },
    {
      "cell_type": "code",
      "metadata": {
        "id": "zA0e8_KmJYxn"
      },
      "source": [
        "dataset_for_prediction[\"Mean\"].plot(color=\"green\", figsize=(15,4))\n",
        "plt.legend([\"Next Day Value\", \"Mean\"])\n",
        "plt.title('Glenmark Pharma Stocks')"
      ],
      "execution_count": null,
      "outputs": []
    },
    {
      "cell_type": "code",
      "metadata": {
        "id": "B8jTbDkxJwx6"
      },
      "source": [
        "from sklearn.preprocessing import MinMaxScaler\n",
        "\n",
        "sc_in = MinMaxScaler(feature_range=(0, 1))\n",
        "\n",
        "scaled_input = sc_in.fit_transform(dataset_for_prediction[['Low Price', 'High Price','Open Price', 'Close Price', \"No. of Trades\", \"Mean\"]])\n",
        "scaled_input = pd.DataFrame(scaled_input)\n",
        "X = scaled_input"
      ],
      "execution_count": null,
      "outputs": []
    },
    {
      "cell_type": "code",
      "metadata": {
        "id": "m32RH5vpBKjJ"
      },
      "source": [
        "sc_out = MinMaxScaler(feature_range=(0, 1))\n",
        "scaler_output = sc_out.fit_transform(dataset_for_prediction[[\"Actual\"]])\n",
        "scaler_output =pd.DataFrame(scaler_output)\n",
        "y=scaler_output"
      ],
      "execution_count": null,
      "outputs": []
    },
    {
      "cell_type": "code",
      "metadata": {
        "id": "ffK6kIQ9BpIu"
      },
      "source": [
        "X.rename(columns={0:\"Low Price\", 1:\"High Price\", 2:\"Open Price\", 3:\"Close Price\", 4:\"Volume\", 5:\"Mean\"}, inplace=True)\n",
        "X.index = dataset_for_prediction.index\n",
        "X.head(2)"
      ],
      "execution_count": null,
      "outputs": []
    },
    {
      "cell_type": "code",
      "metadata": {
        "id": "__X-IMrpB1Xp"
      },
      "source": [
        "y.rename(columns={0:'Stock Price next day'}, inplace= True)\n",
        "y.index=dataset_for_prediction.index\n",
        "y.head(2)"
      ],
      "execution_count": null,
      "outputs": []
    },
    {
      "cell_type": "code",
      "metadata": {
        "id": "YI3DLYhZCYxx"
      },
      "source": [
        "train_size=int(len(dataset) *0.9)\n",
        "test_size = int(len(dataset)) - train_size\n",
        "train_X, train_y = X[:train_size].dropna(), y[:train_size].dropna()\n",
        "test_X, test_y = X[train_size:].dropna(), y[train_size:].dropna()"
      ],
      "execution_count": null,
      "outputs": []
    },
    {
      "cell_type": "markdown",
      "metadata": {
        "id": "VRl37GeRZ0uP"
      },
      "source": [
        "##Decomposing Time Series into Trend and Seasonal"
      ]
    },
    {
      "cell_type": "code",
      "metadata": {
        "id": "TTYsveUNCb8c"
      },
      "source": [
        "import statsmodels.api as sm\n",
        "seas_d=sm.tsa.seasonal_decompose(X[\"Mean\"],model=\"add\",freq=30);\n",
        "fig=seas_d.plot()\n",
        "fig.set_figheight(4)\n",
        "plt.show()"
      ],
      "execution_count": null,
      "outputs": []
    },
    {
      "cell_type": "markdown",
      "metadata": {
        "id": "XPZ7r8DKZ7rw"
      },
      "source": [
        "##Creating ACF and PACF plots"
      ]
    },
    {
      "cell_type": "code",
      "metadata": {
        "id": "I0Pjfyc_Cl-E"
      },
      "source": [
        "y_test=y['Stock Price next day'][:train_size].dropna()\n",
        "\n",
        "fig,ax= plt.subplots(2,1, figsize=(10,5))\n",
        "fig=sm.tsa.graphics.plot_acf(y_test, lags=50, ax=ax[0])\n",
        "fig=sm.tsa.graphics.plot_pacf(y_test, lags=50, ax=ax[1])\n",
        "plt.show()"
      ],
      "execution_count": null,
      "outputs": []
    },
    {
      "cell_type": "markdown",
      "metadata": {
        "id": "72mYNacRaDcC"
      },
      "source": [
        "##Finding best p,q,d paramters using autoarima"
      ]
    },
    {
      "cell_type": "code",
      "metadata": {
        "id": "K_1JmvUKCxTI"
      },
      "source": [
        "from pmdarima.arima import auto_arima\n",
        "step_wise=auto_arima(train_y, exogenous= train_X, start_p=1, start_q=1, max_p=7, max_q=7, d=1, max_d=7, trace=True, error_action='ignore', suppress_warnings=True, stepwise=True)"
      ],
      "execution_count": null,
      "outputs": []
    },
    {
      "cell_type": "code",
      "metadata": {
        "id": "pzIhE2ASEhSP"
      },
      "source": [
        "step_wise.summary()\n",
        "order1=step_wise.get_params()['order']"
      ],
      "execution_count": null,
      "outputs": []
    },
    {
      "cell_type": "markdown",
      "metadata": {
        "id": "UOmrlvyyaZue"
      },
      "source": [
        "##Training Model"
      ]
    },
    {
      "cell_type": "code",
      "metadata": {
        "id": "0vkp32rVEvvb"
      },
      "source": [
        "from statsmodels.tsa.statespace.sarimax import SARIMAX\n",
        "model= SARIMAX(train_y, exog=train_X,  order=order1,  enforce_invertibility=False, enforce_stationarity=False)"
      ],
      "execution_count": null,
      "outputs": []
    },
    {
      "cell_type": "code",
      "metadata": {
        "id": "HptlB7g6FHNj"
      },
      "source": [
        "results= model.fit()\n"
      ],
      "execution_count": null,
      "outputs": []
    },
    {
      "cell_type": "markdown",
      "metadata": {
        "id": "lF7Ft1gEahdS"
      },
      "source": [
        "##Getting predictions and visualizing the results"
      ]
    },
    {
      "cell_type": "code",
      "metadata": {
        "id": "jjA4XMrzFLrw"
      },
      "source": [
        "predictions= results.predict(start =train_size, end=train_size+test_size+(steps)-1,exog=test_X)\n"
      ],
      "execution_count": null,
      "outputs": []
    },
    {
      "cell_type": "code",
      "metadata": {
        "id": "h29mN7JLFNR8"
      },
      "source": [
        "forecast_1= results.forecast(steps=test_size-1, exog=test_X)\n"
      ],
      "execution_count": null,
      "outputs": []
    },
    {
      "cell_type": "code",
      "metadata": {
        "id": "xJUVJmi-FPRE"
      },
      "source": [
        "act= pd.DataFrame(scaler_output.iloc[train_size:, 0])\n"
      ],
      "execution_count": null,
      "outputs": []
    },
    {
      "cell_type": "code",
      "metadata": {
        "id": "z7IGthAjFQyq"
      },
      "source": [
        "predictions=pd.DataFrame(predictions)\n",
        "predictions.reset_index(drop=True, inplace=True)\n",
        "predictions.index=test_X.index\n",
        "predictions['Actual'] = act['Stock Price next day']\n",
        "predictions.rename(columns={0:'Pred'}, inplace=True)"
      ],
      "execution_count": null,
      "outputs": []
    },
    {
      "cell_type": "code",
      "metadata": {
        "id": "3LX3A84BFUKJ"
      },
      "source": [
        "predictions['Actual'].plot(legend=True, color='blue')\n",
        "predictions['Pred'].plot(legend=True, color='red', figsize=(20,8))\n",
        "plt.title('Quick Heal 2018-20')\n"
      ],
      "execution_count": null,
      "outputs": []
    },
    {
      "cell_type": "markdown",
      "metadata": {
        "id": "jNHl2oKvapQg"
      },
      "source": [
        "##Calculating Errors"
      ]
    },
    {
      "cell_type": "code",
      "metadata": {
        "id": "Q6Ony6_CFWcx"
      },
      "source": [
        "error=predictions['Pred']-predictions['Actual']\n",
        "N=predictions['Pred'].shape[0]\n",
        "error=np.absolute(error)\n",
        "error1=error/predictions['Actual']\n"
      ],
      "execution_count": null,
      "outputs": []
    },
    {
      "cell_type": "code",
      "metadata": {
        "id": "Cj6LLvwpBnJ1"
      },
      "source": [
        "mean_abs_error=error.sum()/N\n",
        "mean_sq_error=(error*error).sum()/N\n",
        "mean_abs_error1=error1.sum()/N\n",
        "mean_sq_error1=(error1*error1).sum()/N\n",
        "print (mean_abs_error)\n",
        "print (mean_sq_error)\n",
        "print (mean_abs_error1)\n",
        "print (mean_sq_error1)"
      ],
      "execution_count": null,
      "outputs": []
    },
    {
      "cell_type": "code",
      "metadata": {
        "id": "jpbOvuw-CA5C"
      },
      "source": [
        "import statsmodels\n",
        "k=np.column_stack((predictions['Pred'],predictions['Actual']))\n",
        "statsmodels.tsa.stattools.grangercausalitytests(k,0,False,True)\n",
        "print(statsmodels.tsa.stattools.grangercausalitytests(k,1,True,True))\n"
      ],
      "execution_count": null,
      "outputs": []
    },
    {
      "cell_type": "code",
      "metadata": {
        "id": "IDDBIa-JDiyX"
      },
      "source": [
        "k1=np.corrcoef(predictions['Pred'],predictions['Actual'])\n",
        "print (k1[0][1])\n",
        "print (mean_abs_error1*100)"
      ],
      "execution_count": null,
      "outputs": []
    },
    {
      "cell_type": "code",
      "metadata": {
        "id": "ylGm0pJcAmKd"
      },
      "source": [
        ""
      ],
      "execution_count": null,
      "outputs": []
    }
  ]
}